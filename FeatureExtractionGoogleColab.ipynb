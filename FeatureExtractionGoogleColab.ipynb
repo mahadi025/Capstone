{
  "cells": [
    {
      "cell_type": "code",
      "execution_count": null,
      "metadata": {
        "id": "X5Kby6Q3zFCe"
      },
      "outputs": [],
      "source": [
        "import numpy as np\n",
        "import os\n",
        "from tensorflow.keras.applications import MobileNetV3Small, ResNet50\n",
        "from tensorflow.keras.applications.efficientnet import EfficientNetB3\n",
        "from sklearn import preprocessing\n",
        "from sklearn.metrics import accuracy_score\n",
        "from sklearn.ensemble import RandomForestClassifier\n",
        "from sklearn.svm import SVC\n",
        "from sklearn import metrics\n",
        "import zipfile\n",
        "from tensorflow.keras.preprocessing import image_dataset_from_directory"
      ]
    },
    {
      "cell_type": "code",
      "execution_count": null,
      "metadata": {
        "colab": {
          "base_uri": "https://localhost:8080/"
        },
        "id": "BZYXkuPpz-RR",
        "outputId": "5f307390-5de1-4797-d287-dbf66756ff1c"
      },
      "outputs": [],
      "source": [
        "from google.colab import drive\n",
        "from google.colab import files\n",
        "drive.mount('/content/drive')"
      ]
    },
    {
      "cell_type": "code",
      "execution_count": null,
      "metadata": {
        "colab": {
          "base_uri": "https://localhost:8080/"
        },
        "id": "g9Fe8_NjzFCg",
        "outputId": "4f2a0e7b-543c-4bc7-bbb7-eb0a8d6ddab2"
      },
      "outputs": [],
      "source": [
        "zip_path = '/content/drive/MyDrive/original+smote+image_processing.zip'\n",
        "\n",
        "extracted_path = '/content/dataset/'\n",
        "\n",
        "os.makedirs(extracted_path, exist_ok=True)\n",
        "\n",
        "with zipfile.ZipFile(zip_path, 'r') as zip_ref:\n",
        "    zip_ref.extractall(extracted_path)\n",
        "\n",
        "extracted_folders = os.listdir(extracted_path)\n",
        "print(\"Extracted folders:\", extracted_folders)\n",
        "\n",
        "for folder in extracted_folders:\n",
        "    folder_path = os.path.join(extracted_path, folder)\n",
        "    if os.path.isdir(folder_path):\n",
        "        images_in_folder = os.listdir(folder_path)\n",
        "        print(f\"Images in '{folder}':\", images_in_folder)\n"
      ]
    },
    {
      "cell_type": "code",
      "execution_count": null,
      "metadata": {
        "id": "rrUhTrIWqno9"
      },
      "outputs": [],
      "source": [
        "train_dir = 'dataset/split/train'\n",
        "test_dir = 'dataset/split/test'"
      ]
    },
    {
      "cell_type": "code",
      "execution_count": null,
      "metadata": {},
      "outputs": [],
      "source": [
        "BATCH_SIZE=256 # 32 for Original Dataset, 128 for Smote Dataset, 256 for Augmented Dataset"
      ]
    },
    {
      "cell_type": "code",
      "execution_count": null,
      "metadata": {
        "colab": {
          "base_uri": "https://localhost:8080/"
        },
        "id": "p_9GmLtUqpo_",
        "outputId": "161036b7-eae0-416e-c8ef-19084a5f04d2"
      },
      "outputs": [],
      "source": [
        "train_data = image_dataset_from_directory(\n",
        "    train_dir,\n",
        "    label_mode=\"categorical\",\n",
        "    image_size=(224, 224),\n",
        "    batch_size=BATCH_SIZE,\n",
        "    shuffle=True,\n",
        "    seed=42\n",
        ")\n",
        "\n",
        "test_data = image_dataset_from_directory(\n",
        "    test_dir,\n",
        "    label_mode=\"categorical\",\n",
        "    image_size=(224, 224),\n",
        "    batch_size=BATCH_SIZE,\n",
        "    shuffle=True,\n",
        "    seed=42\n",
        ")"
      ]
    },
    {
      "cell_type": "code",
      "execution_count": null,
      "metadata": {
        "id": "N3FARzSmzFCj"
      },
      "outputs": [],
      "source": [
        "model = EfficientNetB3(weights='imagenet', include_top=False, input_shape=(224, 224, 3))"
      ]
    },
    {
      "cell_type": "code",
      "execution_count": null,
      "metadata": {
        "colab": {
          "base_uri": "https://localhost:8080/"
        },
        "id": "z62Ucl-vzFCj",
        "outputId": "e9a097c7-643b-4fac-b1ff-5c1a5777d01d"
      },
      "outputs": [],
      "source": [
        "for layer in model.layers:\n",
        "\tlayer.trainable = False\n",
        "model.summary()"
      ]
    },
    {
      "cell_type": "code",
      "execution_count": null,
      "metadata": {
        "colab": {
          "base_uri": "https://localhost:8080/"
        },
        "id": "f9ZOVypZzFCj",
        "outputId": "dc1dea13-1258-489e-a9ff-463830ded7b8"
      },
      "outputs": [],
      "source": [
        "train_features = []\n",
        "train_labels = []\n",
        "\n",
        "for batch_images, batch_labels in train_data:\n",
        "    features_batch = model.predict(batch_images)\n",
        "    train_features.append(features_batch)\n",
        "    train_labels.append(batch_labels)\n",
        "\n",
        "train_features = np.concatenate(train_features)\n",
        "train_labels = np.concatenate(train_labels)\n",
        "train_features = train_features.reshape((train_features.shape[0], -1))"
      ]
    },
    {
      "cell_type": "code",
      "execution_count": null,
      "metadata": {
        "colab": {
          "base_uri": "https://localhost:8080/"
        },
        "id": "LgJUwB1izFCk",
        "outputId": "8a1b09a0-2562-40f1-abb1-8b3ec3a72a5c"
      },
      "outputs": [],
      "source": [
        "test_features = []\n",
        "test_labels = []\n",
        "\n",
        "for batch_images, batch_labels in test_data:\n",
        "    features_batch = model.predict(batch_images)\n",
        "    test_features.append(features_batch)\n",
        "    test_labels.append(batch_labels)\n",
        "\n",
        "test_features = np.concatenate(test_features)\n",
        "test_labels = np.concatenate(test_labels)\n",
        "test_features = test_features.reshape((test_features.shape[0], -1))"
      ]
    },
    {
      "cell_type": "code",
      "execution_count": null,
      "metadata": {
        "id": "E1NulDkEzFCk"
      },
      "outputs": [],
      "source": [
        "rf_classifier = RandomForestClassifier(n_estimators=100, random_state=42)\n",
        "svm_classifier = SVC(kernel='linear', C=1.0, random_state=42)"
      ]
    },
    {
      "cell_type": "code",
      "execution_count": null,
      "metadata": {
        "colab": {
          "base_uri": "https://localhost:8080/",
          "height": 75
        },
        "id": "wtRYyY4szFCk",
        "outputId": "02f34977-2c3f-4c65-e4b2-9a4e0490288c"
      },
      "outputs": [],
      "source": [
        "rf_classifier.fit(train_features, np.argmax(train_labels, axis=1))"
      ]
    },
    {
      "cell_type": "code",
      "execution_count": null,
      "metadata": {
        "id": "W7ohw77ZzFCl"
      },
      "outputs": [],
      "source": [
        "train_predictions_rf = rf_classifier.predict(train_features)\n",
        "test_predictions_rf = rf_classifier.predict(test_features)"
      ]
    },
    {
      "cell_type": "code",
      "execution_count": null,
      "metadata": {
        "colab": {
          "base_uri": "https://localhost:8080/",
          "height": 75
        },
        "id": "Afgw_6OxzFCl",
        "outputId": "b1f6ac7a-05d6-4e6c-ad48-b8c6a627cdf0"
      },
      "outputs": [],
      "source": [
        "svm_classifier.fit(train_features, np.argmax(train_labels, axis=1))"
      ]
    },
    {
      "cell_type": "code",
      "execution_count": null,
      "metadata": {
        "id": "_9z0KWbgN38H"
      },
      "outputs": [],
      "source": [
        "train_predictions_svm = svm_classifier.predict(train_features)\n",
        "test_predictions_svm = svm_classifier.predict(test_features)"
      ]
    },
    {
      "cell_type": "code",
      "execution_count": null,
      "metadata": {
        "colab": {
          "base_uri": "https://localhost:8080/"
        },
        "id": "TinK91XcVzML",
        "outputId": "79875ac7-e961-4d29-e5b4-67172c5cf460"
      },
      "outputs": [],
      "source": [
        "print (f\"Training accuracy (RF) =  {accuracy_score(np.argmax(train_labels, axis=1), train_predictions_rf)}\")\n",
        "print (f\"Testing accuracy (RF) =  {accuracy_score(np.argmax(test_labels, axis=1), test_predictions_rf)}\")\n",
        "print(f\"Training accuracy (SVM) = {accuracy_score(np.argmax(train_labels, axis=1), train_predictions_svm)}\")\n",
        "print(f\"Testing accuracy (SVM) = {accuracy_score(np.argmax(test_labels, axis=1), test_predictions_svm)}\")"
      ]
    }
  ],
  "metadata": {
    "accelerator": "GPU",
    "colab": {
      "gpuType": "T4",
      "provenance": []
    },
    "kernelspec": {
      "display_name": "Python 3",
      "name": "python3"
    },
    "language_info": {
      "codemirror_mode": {
        "name": "ipython",
        "version": 3
      },
      "file_extension": ".py",
      "mimetype": "text/x-python",
      "name": "python",
      "nbconvert_exporter": "python",
      "pygments_lexer": "ipython3",
      "version": "3.9.16"
    }
  },
  "nbformat": 4,
  "nbformat_minor": 0
}
