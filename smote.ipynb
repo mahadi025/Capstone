{
 "cells": [
  {
   "cell_type": "code",
   "execution_count": null,
   "metadata": {},
   "outputs": [],
   "source": [
    "import os\n",
    "import numpy as np\n",
    "import matplotlib.pyplot as plt\n",
    "from imblearn.over_sampling import SMOTE\n",
    "from sklearn.model_selection import train_test_split\n",
    "from sklearn.preprocessing import LabelEncoder\n",
    "from tensorflow.keras.preprocessing.image import load_img, img_to_array, array_to_img\n",
    "import os\n",
    "import shutil\n",
    "import cv2"
   ]
  },
  {
   "cell_type": "code",
   "execution_count": null,
   "metadata": {},
   "outputs": [],
   "source": [
    "renamed_images_path='dataset/renamed_images'\n",
    "smote_images_path='dataset/smote_images'\n",
    "if os.path.isdir(smote_images_path):\n",
    "    shutil.rmtree(smote_images_path)\n",
    "os.makedirs(smote_images_path)\n",
    "for image_class in os.listdir(renamed_images_path):\n",
    "    for image in os.listdir(os.path.join(renamed_images_path, image_class)):\n",
    "        image_path = os.path.join(renamed_images_path, image_class, image)\n",
    "        try:\n",
    "            img = cv2.imread(image_path)\n",
    "            cv2.imwrite(os.path.join(smote_images_path, image), img)\n",
    "        except Exception as e:\n",
    "            print(e)\n",
    "print('Images are saved in smote_images')"
   ]
  },
  {
   "cell_type": "code",
   "execution_count": null,
   "metadata": {},
   "outputs": [],
   "source": [
    "def load_images_from_dir(directory):\n",
    "    images = []\n",
    "    labels = []\n",
    "\n",
    "    for filename in os.listdir(directory):\n",
    "        if filename.endswith(\".jpg\"):  # Change to your image format\n",
    "            img = load_img(os.path.join(directory, filename), target_size=(224, 224))  # Resize as needed\n",
    "            img_array = img_to_array(img)\n",
    "            images.append(img_array)\n",
    "            labels.append(filename.split(\"_\")[0])  # Assuming filename is \"class_imageNumber.jpg\"\n",
    "\n",
    "    return np.array(images), labels\n",
    "\n",
    "image_directory = \"dataset/smote_images/\"\n",
    "images, labels = load_images_from_dir(image_directory)\n",
    "\n",
    "label_encoder = LabelEncoder()\n",
    "labels_encoded = label_encoder.fit_transform(labels)"
   ]
  },
  {
   "cell_type": "code",
   "execution_count": null,
   "metadata": {},
   "outputs": [],
   "source": [
    "X_train, X_test, y_train, y_test = train_test_split(images, labels_encoded, test_size=0.2, random_state=42)"
   ]
  },
  {
   "cell_type": "code",
   "execution_count": null,
   "metadata": {},
   "outputs": [],
   "source": [
    "unique_classes, counts = np.unique(y_train, return_counts=True)\n",
    "\n",
    "plt.bar(unique_classes, counts)\n",
    "plt.xticks(unique_classes, label_encoder.inverse_transform(unique_classes))\n",
    "plt.xlabel(\"Class\")\n",
    "plt.ylabel(\"Count\")\n",
    "plt.title(\"Class Distribution Before SMOTE\")\n",
    "plt.show()"
   ]
  },
  {
   "cell_type": "code",
   "execution_count": null,
   "metadata": {},
   "outputs": [],
   "source": [
    "smote = SMOTE(random_state=42)\n",
    "X_train_resampled, y_train_resampled = smote.fit_resample(X_train.reshape(-1, 224 * 224 * 3), y_train)"
   ]
  },
  {
   "cell_type": "code",
   "execution_count": null,
   "metadata": {},
   "outputs": [],
   "source": [
    "# Count the occurrences of each class\n",
    "unique_classes, counts = np.unique(y_train_resampled, return_counts=True)\n",
    "\n",
    "plt.bar(unique_classes, counts)\n",
    "plt.xticks(unique_classes, label_encoder.inverse_transform(unique_classes))  # Convert back to class names\n",
    "plt.xlabel(\"Class\")\n",
    "plt.ylabel(\"Count\")\n",
    "plt.title(\"Class Distribution after SMOTE\")\n",
    "plt.show()"
   ]
  },
  {
   "cell_type": "code",
   "execution_count": null,
   "metadata": {},
   "outputs": [],
   "source": [
    "output_directory = \"dataset/smote_generated_images\"\n",
    "\n",
    "for i, (image, label) in enumerate(zip(X_train_resampled, y_train_resampled)):\n",
    "    image = image.reshape(224, 224, 3)\n",
    "    label_name = label_encoder.inverse_transform([label])[0]\n",
    "    label_directory = os.path.join(output_directory, label_name)\n",
    "\n",
    "    if not os.path.exists(label_directory):\n",
    "        os.makedirs(label_directory)\n",
    "\n",
    "    img = array_to_img(image)\n",
    "    img.save(os.path.join(label_directory, f\"synthetic_{i}.jpg\"))"
   ]
  }
 ],
 "metadata": {
  "kernelspec": {
   "display_name": "Python 3",
   "language": "python",
   "name": "python3"
  },
  "language_info": {
   "codemirror_mode": {
    "name": "ipython",
    "version": 3
   },
   "file_extension": ".py",
   "mimetype": "text/x-python",
   "name": "python",
   "nbconvert_exporter": "python",
   "pygments_lexer": "ipython3",
   "version": "3.9.16"
  },
  "orig_nbformat": 4
 },
 "nbformat": 4,
 "nbformat_minor": 2
}
