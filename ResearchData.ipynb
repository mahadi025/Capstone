{
  "cells": [
    {
      "cell_type": "code",
      "execution_count": null,
      "metadata": {
        "id": "Ocfbak2bRZ32"
      },
      "outputs": [],
      "source": [
        "import tensorflow as tf\n",
        "import os\n",
        "from tensorflow.keras import Model\n",
        "from tensorflow.keras.models import Sequential\n",
        "from tensorflow.keras.layers import Dense, Flatten, Dropout, GlobalAveragePooling2D, BatchNormalization\n",
        "from tensorflow.keras.preprocessing import image_dataset_from_directory\n",
        "from tensorflow.keras.applications.efficientnet import EfficientNetB3\n",
        "from tensorflow.keras.applications import MobileNetV3Small, ResNet50,  ConvNeXtTiny, Xception, DenseNet121, VGG19, InceptionV3, InceptionResNetV2, NASNetMobile\n",
        "import matplotlib.pyplot as plt\n",
        "import zipfile"
      ]
    },
    {
      "cell_type": "code",
      "execution_count": null,
      "metadata": {
        "colab": {
          "base_uri": "https://localhost:8080/"
        },
        "id": "DDjErRtWThMk",
        "outputId": "01167e2f-e4fc-4693-d74d-7820db591012"
      },
      "outputs": [],
      "source": [
        "from google.colab import drive\n",
        "from google.colab import files\n",
        "drive.mount('/content/drive')"
      ]
    },
    {
      "cell_type": "code",
      "execution_count": null,
      "metadata": {
        "colab": {
          "base_uri": "https://localhost:8080/"
        },
        "id": "NoinsYITVz-K",
        "outputId": "ca6ec9b6-66ab-4c3f-fe33-4da8d6b8a8ef"
      },
      "outputs": [],
      "source": [
        "zip_path = '/content/drive/MyDrive/original+smote+image_processing.zip'\n",
        "\n",
        "extracted_path = '/content/extracted_images/'\n",
        "\n",
        "os.makedirs(extracted_path, exist_ok=True)\n",
        "\n",
        "with zipfile.ZipFile(zip_path, 'r') as zip_ref:\n",
        "    zip_ref.extractall(extracted_path)\n",
        "\n",
        "extracted_folders = os.listdir(extracted_path)\n",
        "print(\"Extracted folders:\", extracted_folders)\n",
        "\n",
        "for folder in extracted_folders:\n",
        "    folder_path = os.path.join(extracted_path, folder)\n",
        "    if os.path.isdir(folder_path):\n",
        "        images_in_folder = os.listdir(folder_path)\n",
        "        print(f\"Images in '{folder}':\", images_in_folder)"
      ]
    },
    {
      "cell_type": "code",
      "execution_count": null,
      "metadata": {
        "id": "fHRxv7W-T3O1"
      },
      "outputs": [],
      "source": [
        "train_dir = '/content/extracted_images/split/train'\n",
        "test_dir = '/content/extracted_images/split/test'"
      ]
    },
    {
      "cell_type": "code",
      "execution_count": null,
      "metadata": {
        "id": "LiwkdLUpwO8c"
      },
      "outputs": [],
      "source": [
        "batch_size=32\n",
        "learning_rate=0.001\n",
        "epochs=25\n",
        "optimizer=(tf.keras.optimizers.Adam(learning_rate=learning_rate))\n",
        "dropout=0.2"
      ]
    },
    {
      "cell_type": "code",
      "execution_count": null,
      "metadata": {
        "colab": {
          "base_uri": "https://localhost:8080/"
        },
        "id": "tIdFN5KbUJyv",
        "outputId": "cd7e48e6-95ca-4a46-ecd4-ecd9f76a082c"
      },
      "outputs": [],
      "source": [
        "train_data = image_dataset_from_directory(\n",
        "    train_dir,\n",
        "    validation_split=0.2,\n",
        "    subset=\"training\",\n",
        "    label_mode=\"categorical\",\n",
        "    image_size=(224, 224),\n",
        "    batch_size=batch_size,\n",
        "    shuffle=True,\n",
        "    seed=42\n",
        ")\n",
        "\n",
        "val_data = image_dataset_from_directory(\n",
        "    train_dir,\n",
        "    validation_split=0.2,\n",
        "    subset=\"validation\",\n",
        "    label_mode=\"categorical\",\n",
        "    image_size=(224, 224),\n",
        "    batch_size=batch_size,\n",
        "    shuffle=True,\n",
        "    seed=42\n",
        ")\n",
        "\n",
        "test_data = image_dataset_from_directory(\n",
        "    test_dir,\n",
        "    label_mode=\"categorical\",\n",
        "    image_size=(224, 224),\n",
        "    batch_size=batch_size,\n",
        "    shuffle=True,\n",
        "    seed=42\n",
        ")"
      ]
    },
    {
      "cell_type": "code",
      "execution_count": null,
      "metadata": {
        "colab": {
          "base_uri": "https://localhost:8080/"
        },
        "id": "zLV88WbTULua",
        "outputId": "0657a940-fd87-4e2b-ddc8-ace58a6b5929"
      },
      "outputs": [],
      "source": [
        "model = Sequential()\n",
        "\n",
        "pretrained_model = DenseNet121(\n",
        "    include_top=False,\n",
        "    input_shape=(224, 224, 3),\n",
        "    pooling='max',\n",
        "    weights='imagenet'\n",
        ")\n",
        "\n",
        "pretrained_model.trainable = False\n",
        "\n",
        "pretrained_model = Model(\n",
        "    inputs=pretrained_model.inputs,\n",
        "    outputs=pretrained_model.layers[-2].output\n",
        ")\n",
        "model.add(pretrained_model)\n",
        "\n",
        "model.add(BatchNormalization())\n",
        "model.add(GlobalAveragePooling2D())\n",
        "\n",
        "model.add(Flatten())\n",
        "\n",
        "model.add(Dense(32, activation='relu'))\n",
        "model.add(Dropout(dropout))\n",
        "model.add(Dense(64, activation='relu'))\n",
        "model.add(Dropout(dropout))\n",
        "model.add(Dense(18, activation='softmax'))\n",
        "\n",
        "model.summary()"
      ]
    },
    {
      "cell_type": "code",
      "execution_count": null,
      "metadata": {
        "id": "eV5peHqNUQ83"
      },
      "outputs": [],
      "source": [
        "tensorboard_callback = tf.keras.callbacks.TensorBoard(log_dir='logs')\n",
        "model.compile(loss=tf.keras.losses.CategoricalCrossentropy(), optimizer=optimizer, metrics=['accuracy',])"
      ]
    },
    {
      "cell_type": "code",
      "execution_count": null,
      "metadata": {
        "id": "-GdeIXxMyT2r"
      },
      "outputs": [],
      "source": [
        "hist = model.fit(train_data, epochs=epochs, validation_data=val_data, callbacks=[tensorboard_callback])"
      ]
    },
    {
      "cell_type": "code",
      "execution_count": null,
      "metadata": {
        "id": "H2NXQScJz2pM"
      },
      "outputs": [],
      "source": [
        "test_loss,test_accuracy=model.evaluate(test_data)"
      ]
    },
    {
      "cell_type": "code",
      "execution_count": null,
      "metadata": {
        "id": "KF_EziwnUUnT"
      },
      "outputs": [],
      "source": [
        "train_accuracy=round(hist.history[\"accuracy\"][-1], 2)\n",
        "val_accuracy=round(hist.history[\"val_accuracy\"][-1], 2)\n",
        "test_accuracy=round(test_accuracy, 2)"
      ]
    },
    {
      "cell_type": "code",
      "execution_count": null,
      "metadata": {
        "id": "SxFz2k6gUWE5"
      },
      "outputs": [],
      "source": [
        "print(f'Epochs: {epochs}\\nbatch Size: {batch_size}\\nLearning Rate: {learning_rate}\\nOptimizer: {optimizer}\\nDropout: {dropout}\\nTrain Accuracy: {train_accuracy} Test Accuracy: {test_accuracy} Val Accuracy: {val_accuracy}')"
      ]
    },
    {
      "cell_type": "code",
      "execution_count": null,
      "metadata": {
        "id": "yU6tI1G8UXJm"
      },
      "outputs": [],
      "source": [
        "plt.plot(hist.history['accuracy'], label=f'Training Accuracy')\n",
        "plt.plot(hist.history['val_accuracy'], label=f'Validation Accuracy')\n",
        "plt.xlabel('Epoch')\n",
        "plt.ylabel('Accuracy')\n",
        "plt.legend(loc=\"lower right\")\n",
        "plt.title('Training & Validation Accuracy')\n",
        "plt.show()"
      ]
    },
    {
      "cell_type": "code",
      "execution_count": null,
      "metadata": {
        "id": "oqDbY4-nUYRp"
      },
      "outputs": [],
      "source": [
        "plt.plot(hist.history['loss'], label=f'Training Loss')\n",
        "plt.plot(hist.history['val_loss'], label=f'Validation Loss')\n",
        "plt.xlabel('Epoch')\n",
        "plt.ylabel('Loss')\n",
        "plt.legend(loc=\"upper right\")\n",
        "plt.title('Training & Validation Loss')\n",
        "plt.show()"
      ]
    }
  ],
  "metadata": {
    "accelerator": "GPU",
    "colab": {
      "gpuType": "T4",
      "provenance": []
    },
    "kernelspec": {
      "display_name": "Python 3",
      "name": "python3"
    },
    "language_info": {
      "name": "python"
    }
  },
  "nbformat": 4,
  "nbformat_minor": 0
}
