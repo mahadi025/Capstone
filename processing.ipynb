{
 "cells": [
  {
   "cell_type": "code",
   "execution_count": null,
   "metadata": {},
   "outputs": [],
   "source": [
    "from image_processing import resize, contrast_adjustment, rename, split_dataset, total_images, augmentation, smoothening"
   ]
  },
  {
   "cell_type": "code",
   "execution_count": null,
   "metadata": {},
   "outputs": [],
   "source": [
    "total_images('dataset/original')"
   ]
  },
  {
   "cell_type": "code",
   "execution_count": null,
   "metadata": {},
   "outputs": [],
   "source": [
    "# Resize the images by (224, 224) default\n",
    "resize(input_images_dir='dataset/original')"
   ]
  },
  {
   "cell_type": "code",
   "execution_count": null,
   "metadata": {},
   "outputs": [],
   "source": [
    "# Remove noise from images\n",
    "smoothening(input_images_dir='dataset/resized_images')"
   ]
  },
  {
   "cell_type": "code",
   "execution_count": null,
   "metadata": {},
   "outputs": [],
   "source": [
    "# Apply contrast adjustment on images\n",
    "contrast_adjustment(input_images_dir='dataset/original',)"
   ]
  },
  {
   "cell_type": "code",
   "execution_count": null,
   "metadata": {},
   "outputs": [],
   "source": [
    "# Rename the whole dataset\n",
    "rename(input_images_dir='dataset/original')"
   ]
  },
  {
   "cell_type": "code",
   "execution_count": null,
   "metadata": {},
   "outputs": [],
   "source": [
    "# Image Augmentation\n",
    "\n",
    "\n",
    "# if before_split is True meaning augmenting the images before splitting the dataset on (train/test or train/test/val) will create a folder named augmented_images.\n",
    "# Then you can split the dataset from augmented_images directory.\n",
    "\n",
    "\n",
    "# if before_split is False meaning augmenting the images after split will create a 'new_train' or 'new_val' depending directory on your train/test/val directory.\n",
    "augmentation(\n",
    "    input_images_dir='dataset/contrast_adjustment_images',\n",
    "    before_split=True,\n",
    "    times=5,\n",
    "    # subset='train'\n",
    ")"
   ]
  },
  {
   "cell_type": "code",
   "execution_count": null,
   "metadata": {},
   "outputs": [],
   "source": [
    "split_dataset(loc='dataset/resized_images', split=2)"
   ]
  }
 ],
 "metadata": {
  "kernelspec": {
   "display_name": "Python 3",
   "language": "python",
   "name": "python3"
  },
  "language_info": {
   "codemirror_mode": {
    "name": "ipython",
    "version": 3
   },
   "file_extension": ".py",
   "mimetype": "text/x-python",
   "name": "python",
   "nbconvert_exporter": "python",
   "pygments_lexer": "ipython3",
   "version": "3.9.16"
  },
  "orig_nbformat": 4
 },
 "nbformat": 4,
 "nbformat_minor": 2
}
